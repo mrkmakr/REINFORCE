{
 "cells": [
  {
   "cell_type": "code",
   "execution_count": 1,
   "metadata": {
    "collapsed": false
   },
   "outputs": [],
   "source": [
    "#REINFORCEMENT\n",
    "\n",
    "# The typical imports\n",
    "import gym\n",
    "import numpy as np\n",
    "import matplotlib.pyplot as plt\n",
    "%matplotlib inline\n",
    "\n",
    "# Imports specifically so we can render outputs in Jupyter.\n",
    "from JSAnimation.IPython_display import display_animation\n",
    "from matplotlib import animation\n",
    "from IPython.display import display\n"
   ]
  },
  {
   "cell_type": "code",
   "execution_count": 2,
   "metadata": {
    "collapsed": true
   },
   "outputs": [],
   "source": [
    "def softmax(x,beta):\n",
    "    #return softmax function output\n",
    "    #when x is very large or very small, np.exp(x) become wrong due to overflow.\n",
    "    #so I avoid the problem naively.\n",
    "    x=x*beta\n",
    "    if np.max(x)>500:\n",
    "        temp=np.zeros_like(x)\n",
    "        temp[np.argmax(x)]=1\n",
    "        return temp\n",
    "    if np.max(x)<-500:\n",
    "        temp=np.zeros_like(x) + 0.25\n",
    "        return temp\n",
    "    else:\n",
    "        temp=np.exp(x)\n",
    "        return temp/np.sum(temp)\n"
   ]
  },
  {
   "cell_type": "code",
   "execution_count": 3,
   "metadata": {
    "collapsed": true
   },
   "outputs": [],
   "source": [
    "import numpy as np\n",
    "import matplotlib.pyplot as plt\n",
    "%matplotlib inline\n",
    "\n",
    "import copy as cp\n",
    "\n",
    "import time"
   ]
  },
  {
   "cell_type": "code",
   "execution_count": 4,
   "metadata": {
    "collapsed": true
   },
   "outputs": [],
   "source": [
    "def state_feature(observation):\n",
    "    feature = np.hstack([observation,np.sign(observation)])    \n",
    "    return feature[[0,1,6,7]]"
   ]
  },
  {
   "cell_type": "code",
   "execution_count": 8,
   "metadata": {
    "collapsed": false
   },
   "outputs": [
    {
     "name": "stderr",
     "output_type": "stream",
     "text": [
      "[2018-02-09 20:12:01,843] Making new env: CartPole-v0\n"
     ]
    }
   ],
   "source": [
    "env=gym.make('CartPole-v0')\n",
    "ob=env.reset()\n",
    "ob=state_feature(ob)\n",
    "n_state=len(ob)\n",
    "n_action=env.action_space.n"
   ]
  },
  {
   "cell_type": "code",
   "execution_count": 18,
   "metadata": {
    "collapsed": false
   },
   "outputs": [],
   "source": [
    "#setting and initialization\n",
    "\n",
    "M_a=np.zeros([n_action,n_state])#weight used for calculating action\n",
    "M_v=np.zeros([n_state])#weight used for calculating value\n",
    "\n",
    "beta=1\n",
    "action_cand = range(n_action)\n",
    "gamma=0.9\n",
    "t_list=[]\n",
    "\n"
   ]
  },
  {
   "cell_type": "code",
   "execution_count": 19,
   "metadata": {
    "collapsed": false,
    "scrolled": true
   },
   "outputs": [],
   "source": [
    "beta=1\n",
    "for _ in range(100):\n",
    "\n",
    "    observation = env.reset()\n",
    "    observation = state_feature(observation)\n",
    "    for t in range(200):\n",
    "\n",
    "        value_action = np.dot(M_a,observation)\n",
    "        value_state  = np.dot(M_v,observation)\n",
    "        p_action = softmax(value_action,beta)\n",
    "        action_chosen = np.random.choice(action_cand,p=p_action)\n",
    "\n",
    "        observation, reward, done, info = env.step(action_chosen)\n",
    "        observation = state_feature(observation)\n",
    "        \n",
    "        p_action_chosen = p_action[action_chosen]\n",
    "        dpi = p_action_chosen * (1-p_action_chosen) * observation\n",
    "        dlogpi = dpi / p_action_chosen\n",
    "        Q = reward\n",
    "        dj = dlogpi * Q\n",
    "        \n",
    "        \n",
    "        M_a[action_chosen] -= 0.01*dj\n",
    "\n",
    "        if done == True:\n",
    "            t_list.append(t)\n",
    "            break\n"
   ]
  },
  {
   "cell_type": "code",
   "execution_count": 20,
   "metadata": {
    "collapsed": false
   },
   "outputs": [
    {
     "data": {
      "image/png": "[encoded data removed]",
      "text/plain": [
       "<matplotlib.figure.Figure at 0x10f840810>"
      ]
     },
     "metadata": {},
     "output_type": "display_data"
    }
   ],
   "source": [
    "plt.plot(t_list)\n",
    "plt.ylabel('reward')\n",
    "plt.xlabel('iteration')\n",
    "plt.savefig('learning curve.png')"
   ]
  },
  {
   "cell_type": "code",
   "execution_count": null,
   "metadata": {
    "collapsed": true
   },
   "outputs": [],
   "source": []
  }
 ],
 "metadata": {
  "kernelspec": {
   "display_name": "Python 2",
   "language": "python",
   "name": "python2"
  },
  "language_info": {
   "codemirror_mode": {
    "name": "ipython",
    "version": 2
   },
   "file_extension": ".py",
   "mimetype": "text/x-python",
   "name": "python",
   "nbconvert_exporter": "python",
   "pygments_lexer": "ipython2",
   "version": "2.7.13"
  }
 },
 "nbformat": 4,
 "nbformat_minor": 2
}
